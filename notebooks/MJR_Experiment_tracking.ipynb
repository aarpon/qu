{
 "cells": [
  {
   "cell_type": "markdown",
   "id": "decreased-camel",
   "metadata": {},
   "source": [
    "# Notebook for launching tensorboard and track experiments"
   ]
  },
  {
   "cell_type": "code",
   "execution_count": 19,
   "id": "virgin-database",
   "metadata": {},
   "outputs": [],
   "source": [
    "import tensorboard"
   ]
  },
  {
   "cell_type": "code",
   "execution_count": null,
   "id": "patent-modem",
   "metadata": {},
   "outputs": [
    {
     "name": "stdout",
     "output_type": "stream",
     "text": [
      "Serving TensorBoard on localhost; to expose to the network, use a proxy or pass --bind_all\n",
      "TensorBoard 2.3.0 at http://localhost:6006/ (Press CTRL+C to quit)\n"
     ]
    }
   ],
   "source": [
    "!tensorboard --logdir=\"/home/matt/.qu/data/demo_segmentation/runs\""
   ]
  },
  {
   "cell_type": "raw",
   "id": "incorporate-dubai",
   "metadata": {},
   "source": []
  },
  {
   "cell_type": "code",
   "execution_count": 16,
   "id": "confirmed-colombia",
   "metadata": {},
   "outputs": [],
   "source": [
    "from pathlib import Path\n",
    "a = \"/home/matt/.qu/runs\""
   ]
  },
  {
   "cell_type": "code",
   "execution_count": 17,
   "id": "blond-significance",
   "metadata": {},
   "outputs": [],
   "source": [
    "b = Path(a) / \"blabla\""
   ]
  },
  {
   "cell_type": "code",
   "execution_count": 18,
   "id": "premier-taste",
   "metadata": {},
   "outputs": [
    {
     "data": {
      "text/plain": [
       "PosixPath('/home/matt/.qu/runs/blabla')"
      ]
     },
     "execution_count": 18,
     "metadata": {},
     "output_type": "execute_result"
    }
   ],
   "source": []
  }
 ],
 "metadata": {
  "kernelspec": {
   "display_name": "qu",
   "language": "python",
   "name": "qu"
  },
  "language_info": {
   "codemirror_mode": {
    "name": "ipython",
    "version": 3
   },
   "file_extension": ".py",
   "mimetype": "text/x-python",
   "name": "python",
   "nbconvert_exporter": "python",
   "pygments_lexer": "ipython3",
   "version": "3.8.5"
  }
 },
 "nbformat": 4,
 "nbformat_minor": 5
}
