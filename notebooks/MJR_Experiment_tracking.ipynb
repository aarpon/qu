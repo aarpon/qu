{
 "cells": [
  {
   "cell_type": "markdown",
   "id": "random-advantage",
   "metadata": {},
   "source": [
    "# Notebook for launching tensorboard and track experiments"
   ]
  },
  {
   "cell_type": "code",
   "execution_count": null,
   "id": "graphic-fisher",
   "metadata": {},
   "outputs": [],
   "source": [
    "## Launch tensorboard"
   ]
  },
  {
   "cell_type": "code",
   "execution_count": 1,
   "id": "familiar-disabled",
   "metadata": {},
   "outputs": [],
   "source": [
    "import tensorboard"
   ]
  },
  {
   "cell_type": "code",
   "execution_count": null,
   "id": "viral-snake",
   "metadata": {},
   "outputs": [
    {
     "name": "stdout",
     "output_type": "stream",
     "text": [
      "Serving TensorBoard on localhost; to expose to the network, use a proxy or pass --bind_all\n",
      "TensorBoard 2.3.0 at http://localhost:6006/ (Press CTRL+C to quit)\n"
     ]
    }
   ],
   "source": [
    "!tensorboard --logdir=\"/home/matt/.qu/data/demo_segmentation/runs\""
   ]
  },
  {
   "cell_type": "raw",
   "id": "blocked-montana",
   "metadata": {},
   "source": []
  },
  {
   "cell_type": "code",
   "execution_count": 16,
   "id": "informational-veteran",
   "metadata": {},
   "outputs": [],
   "source": [
    "from pathlib import Path\n",
    "a = \"/home/matt/.qu/runs\""
   ]
  },
  {
   "cell_type": "code",
   "execution_count": 17,
   "id": "ordinary-carolina",
   "metadata": {},
   "outputs": [],
   "source": [
    "b = Path(a) / \"blabla\""
   ]
  },
  {
   "cell_type": "markdown",
   "id": "related-response",
   "metadata": {},
   "source": [
    "## Functions for detailed analysis of segmentation\n"
   ]
  },
  {
   "cell_type": "code",
   "execution_count": 361,
   "id": "weekly-beginning",
   "metadata": {},
   "outputs": [],
   "source": [
    "from skimage.metrics import structural_similarity as ssim\n",
    "from PIL import Image\n",
    "import numpy as np \n",
    "\n",
    "def compare_images(truth_img_path, pred_img_path) ->None :\n",
    "    \"\"\" compare ground truth and prediction visually higlihting errors\n",
    "    @param: truth_image_path - path to grond truth mask\n",
    "    @param: pred_img_path - path to prediction\n",
    "    @return: None\"\"\"\n",
    "    # import images\n",
    "    if isinstance(truth_img_path, Path):\n",
    "        truth_img_path = str(truth_img_path.resolve())\n",
    "    if isinstance(pred_img_path, Path):\n",
    "        pred_img_path = str(pred_img_path.resolve())\n",
    "    truth_img = np.array(Image.open(truth_img_path))\n",
    "    pred_img = np.array(Image.open(pred_img_path))\n",
    "    # display differences\n",
    "    truth_img = np.array(Image.open(truth_img_path))\n",
    "     # difference in all classes\n",
    "    gen_diff = truth_img != pred_img\n",
    "    \n",
    "    # difference for each classes\n",
    "    class_list = list(np.unique(truth_img))[1:]\n",
    "    print(class_list)\n",
    "    fig,axs = plt.subplots(ncols=1, nrows=class_list[-1]+1, figsize=(30,35))\n",
    "    for a,n in enumerate(class_list):\n",
    "        t_im = truth_img.copy()\n",
    "        t_im[ t_im != n ] = 0\n",
    "        p_im = pred_img.copy()\n",
    "        p_im[ p_im != n ] = 0\n",
    "        \n",
    "        axs[a].imshow(p_im != t_im)\n",
    "        axs[a].set_title(f\" difference in class {n}\" )\n",
    "        axs[a].set_axis_off()\n",
    "    axs[class_list[-1]].imshow(gen_diff)\n",
    "    axs[class_list[-1]].set_title(\"overall difference\")\n",
    "    axs[class_list[-1]].set_axis_off()\n",
    "    return None"
   ]
  },
  {
   "cell_type": "code",
   "execution_count": 362,
   "id": "dirty-version",
   "metadata": {},
   "outputs": [],
   "source": [
    "# object based analysis of results\n",
    "import cv2\n",
    "\n",
    "def get_contours(img) -> object:\n",
    "    \"\"\"get contours of  distinct objects in mask (ground truth or presentation)\n",
    "    @param: img - 2d array with 0-3 values \n",
    "    @returns tuple with contour information, dist_transform array\"\"\"\n",
    "    if np.max(img) != 255:\n",
    "        img=np.array(img * (255/np.max(img)), dtype = np.uint8)\n",
    "    \n",
    "    dist_transform = cv2.distanceTransform(img,cv2.DIST_L1,5)\n",
    "    ret, last_image =  cv2.threshold(dist_transform, 1e-06*dist_transform.max(),255,0)\n",
    "    last_image = np.uint8(last_image)\n",
    "    # get contours\n",
    "    cnts = cv2.findContours(last_image.copy(), cv2.RETR_EXTERNAL,\n",
    "\tcv2.CHAIN_APPROX_SIMPLE)\n",
    "    return cnts, dist_transform\n",
    "\n",
    "def count_cells(img) -> int:\n",
    "    \"\"\"counts distinct objects in mask \n",
    "    @param: img - 2d array with 0-3 values \"\"\"\n",
    "    cnts,_ = get_contours(img)\n",
    "    return len(cnts[0])\n",
    "    \n",
    "def get_size_of_cells(img) -> list:\n",
    "    \"\"\"get cell size distribution in pixels\n",
    "    @param: img - 2d array with 0-3 values \n",
    "    @returns list of cell sizes  \"\"\"\n",
    "    cnts, dist_transform =get_contours(img)\n",
    "    size_list=[]\n",
    "    for cnt in cnts[0]:\n",
    "        bbox = cv2.boundingRect(cnt)\n",
    "        bbox_remapped = [bbox[1], bbox[1]+bbox[3], bbox[0], bbox[0]+bbox[2]] \n",
    "        max_size = np.max(dist_transform[bbox_remapped[0] : bbox_remapped[1], \n",
    "                                         bbox_remapped[2] : bbox_remapped[3] ])\n",
    "        size_list.append(int(max_size))\n",
    "    return size_list\n",
    "\n",
    "def detect_partial_segmentation(img):\n",
    "    \"\"\" evaluate prediction quality of contour (class 2) vs actual cell (class 1)\n",
    "    @param: img - 2d array with 0-3 values \n",
    "    @returns count of wrong cells\n",
    "    \"\"\"\n",
    "    cnts, dist_transform =get_contours(img)\n",
    "    size_list=[]\n",
    "    problem_list = []\n",
    "    for cnt in cnts[0]:\n",
    "        bbox = cv2.boundingRect(cnt)\n",
    "        bbox_remapped = [bbox[1], bbox[1]+bbox[3], bbox[0], bbox[0]+bbox[2]] \n",
    "        aoi_dist = dist_transform[ bbox_remapped[0] : bbox_remapped[1], \n",
    "                                   bbox_remapped[2] : bbox_remapped[3] ]\n",
    "        aoi = img[ bbox_remapped[0] : bbox_remapped[1], \n",
    "                   bbox_remapped[2] : bbox_remapped[3] ]\n",
    "        contour = np.ma.masked_where(aoi_dist>2, aoi)\n",
    "        inner = np.ma.masked_where(aoi_dist<=2, aoi)\n",
    "    if (1 in np.unique(contour)) or (1 not in np.unique(inner) ):\n",
    "        problem_list.append(cnt)\n",
    "        \n",
    "    return problem_list\n"
   ]
  },
  {
   "cell_type": "code",
   "execution_count": 398,
   "id": "loving-conviction",
   "metadata": {},
   "outputs": [],
   "source": [
    "# batch assessment\n",
    "import os\n",
    "from statistics import mean, stdev\n",
    "\n",
    "def check_segmentation_predictions(gt_fold_path, pred_fold_path, verbose=False):\n",
    "    \"\"\"wrapper to evaluate segmentation quality in batch of images. \n",
    "    All errors are expressed as prediction - ground truth\n",
    "    \n",
    "    @param: gt_fold_path - path to ground truth folder\n",
    "    @param: pred_fold_path - path to predictions \n",
    "    @param: verbose - Bool or int <= 2\"\"\"\n",
    "    missing_files = []\n",
    "    d,_,f = list(os.walk(gt_fold_path))[0]\n",
    "    d1,_,f1= list(os.walk(pred_fold_path))[0]\n",
    "    \n",
    "    # check for missing files\n",
    "    \n",
    "    if verbose:\n",
    "        print(f\"found {len(f)} ground truth and {len(f1)} predictions\")\n",
    "   \n",
    "    clean_fnames = sorted([f_name.split(\"_\")[-1]  for f_name in f])\n",
    "    clean_f1names = sorted([f_name.split(\"_\")[-1]  for f_name in f1])\n",
    "\n",
    "    missing_files = [f for f in clean_fnames if f not in clean_f1names]\n",
    "    if len(missing_files)>0:\n",
    "        print(f\"{len(missing_files)} missing images found: {missing_files} \")\n",
    "    \n",
    "    # detect segmentation errors per image\n",
    "    un_objects_diff = []\n",
    "    size_difference = []\n",
    "    partial_segmentations = []\n",
    "    \n",
    "    for n in range(len(f)):\n",
    "        true_img_path = os.path.join(d, f[n])\n",
    "        pred_img_path = os.path.join(d1, f1[n])\n",
    "        if verbose>1:\n",
    "            print(f\"evaluating img {f[n]} and prediction {f1[n]}\")\n",
    "        \n",
    "        tr_img = np.array(Image.open(true_img_path))\n",
    "        pr_img = np.array(Image.open(pred_img_path))\n",
    "                \n",
    "        # count distinct objects / cells\n",
    "        un_objects_diff.append( count_cells(pr_img) - count_cells(tr_img) )\n",
    "\n",
    "        if verbose>1:\n",
    "            print(f\"number of unique objects: {count_cells(pr_img)}, {count_cells(tr_img)} \\n\")\n",
    "                  \n",
    "        # get difference in avg and std of cell sizes\n",
    "        avg_diff = mean(get_size_of_cells(pr_img)) - mean(get_size_of_cells(tr_img))\n",
    "        std_diff = stdev(get_size_of_cells(pr_img)) - stdev(get_size_of_cells(tr_img))\n",
    "        size_difference.append( [avg_diff, std_diff] )\n",
    "        \n",
    "        # get partial segmentations (predictions only)\n",
    "        partial_segmentations.append( len(detect_partial_segmentation(pr_img)) )\n",
    "    \n",
    "    segmentation_errors={\"un_objects_diff\": un_objects_diff, \n",
    "                         \"size_difference\": size_difference, \n",
    "                         \"partial_segmentations\": partial_segmentations\n",
    "                            }\n",
    "        \n",
    "    if verbose:\n",
    "    # create plots on errors\n",
    "        fig, axs=plt.subplots(ncols=2, nrows=2, figsize=(10,25))\n",
    "        axs[0].boxplot(segmentation_errors[\"un_objects_diff\"])\n",
    "        axs[1].boxplot( [np.array(segmentation_errors[\"size_difference\"]).squeeze()[:,0],\n",
    "                        np.array(segmentation_errors[\"size_difference\"]).squeeze()[:,1] ])\n",
    "        axs[2].hist(segmentation_errors[\"partial_segmentations\"])\n",
    "        \n",
    "        axs[0].set_title(\"difference in unique objects count (prediction - ground truth)\")\n",
    "        axs[1].set_title(\"difference in pixel size of object (prediction - ground truth)\")\n",
    "        axs[2].set_title(\"partial segmentations in prediction \")\n",
    "        \n",
    "            \n",
    "    return segmentation_errors"
   ]
  },
  {
   "cell_type": "code",
   "execution_count": 399,
   "id": "criminal-sample",
   "metadata": {},
   "outputs": [
    {
     "name": "stdout",
     "output_type": "stream",
     "text": [
      "found 90 ground truth and 90 predictions\n"
     ]
    },
    {
     "ename": "AttributeError",
     "evalue": "'numpy.ndarray' object has no attribute 'boxplot'",
     "output_type": "error",
     "traceback": [
      "\u001b[0;31m---------------------------------------------------------------------------\u001b[0m",
      "\u001b[0;31mAttributeError\u001b[0m                            Traceback (most recent call last)",
      "\u001b[0;32m<ipython-input-399-8cde0c9c420c>\u001b[0m in \u001b[0;36m<module>\u001b[0;34m\u001b[0m\n\u001b[1;32m      5\u001b[0m \u001b[0mpred_fold_path\u001b[0m \u001b[0;34m=\u001b[0m \u001b[0;34m\"/home/matt/.qu/data/demo_segmentation/preds\"\u001b[0m\u001b[0;34m\u001b[0m\u001b[0;34m\u001b[0m\u001b[0m\n\u001b[1;32m      6\u001b[0m \u001b[0;34m\u001b[0m\u001b[0m\n\u001b[0;32m----> 7\u001b[0;31m \u001b[0m_\u001b[0m \u001b[0;34m=\u001b[0m \u001b[0mcheck_segmentation_predictions\u001b[0m\u001b[0;34m(\u001b[0m\u001b[0mgt_fold_path\u001b[0m\u001b[0;34m,\u001b[0m \u001b[0mpred_fold_path\u001b[0m\u001b[0;34m,\u001b[0m \u001b[0;32mTrue\u001b[0m\u001b[0;34m)\u001b[0m\u001b[0;34m\u001b[0m\u001b[0;34m\u001b[0m\u001b[0m\n\u001b[0m",
      "\u001b[0;32m<ipython-input-398-6e53929f617c>\u001b[0m in \u001b[0;36mcheck_segmentation_predictions\u001b[0;34m(gt_fold_path, pred_fold_path, verbose)\u001b[0m\n\u001b[1;32m     62\u001b[0m     \u001b[0;31m# create plots on errors\u001b[0m\u001b[0;34m\u001b[0m\u001b[0;34m\u001b[0m\u001b[0;34m\u001b[0m\u001b[0m\n\u001b[1;32m     63\u001b[0m         \u001b[0mfig\u001b[0m\u001b[0;34m,\u001b[0m \u001b[0maxs\u001b[0m\u001b[0;34m=\u001b[0m\u001b[0mplt\u001b[0m\u001b[0;34m.\u001b[0m\u001b[0msubplots\u001b[0m\u001b[0;34m(\u001b[0m\u001b[0mncols\u001b[0m\u001b[0;34m=\u001b[0m\u001b[0;36m2\u001b[0m\u001b[0;34m,\u001b[0m \u001b[0mnrows\u001b[0m\u001b[0;34m=\u001b[0m\u001b[0;36m2\u001b[0m\u001b[0;34m,\u001b[0m \u001b[0mfigsize\u001b[0m\u001b[0;34m=\u001b[0m\u001b[0;34m(\u001b[0m\u001b[0;36m10\u001b[0m\u001b[0;34m,\u001b[0m\u001b[0;36m25\u001b[0m\u001b[0;34m)\u001b[0m\u001b[0;34m)\u001b[0m\u001b[0;34m\u001b[0m\u001b[0;34m\u001b[0m\u001b[0m\n\u001b[0;32m---> 64\u001b[0;31m         \u001b[0maxs\u001b[0m\u001b[0;34m[\u001b[0m\u001b[0;36m0\u001b[0m\u001b[0;34m]\u001b[0m\u001b[0;34m.\u001b[0m\u001b[0mboxplot\u001b[0m\u001b[0;34m(\u001b[0m\u001b[0msegmentation_errors\u001b[0m\u001b[0;34m[\u001b[0m\u001b[0;34m\"un_objects_diff\"\u001b[0m\u001b[0;34m]\u001b[0m\u001b[0;34m)\u001b[0m\u001b[0;34m\u001b[0m\u001b[0;34m\u001b[0m\u001b[0m\n\u001b[0m\u001b[1;32m     65\u001b[0m         axs[1].boxplot( [np.array(segmentation_errors[\"size_difference\"]).squeeze()[:,0],\n\u001b[1;32m     66\u001b[0m                         np.array(segmentation_errors[\"size_difference\"]).squeeze()[:,1] ])\n",
      "\u001b[0;31mAttributeError\u001b[0m: 'numpy.ndarray' object has no attribute 'boxplot'"
     ]
    },
    {
     "data": {
      "image/png": "[encoded data removed]",
      "text/plain": [
       "<Figure size 720x1800 with 4 Axes>"
      ]
     },
     "metadata": {
      "needs_background": "light"
     },
     "output_type": "display_data"
    }
   ],
   "source": [
    "# running assessment\n",
    "\n",
    "gt_fold_path = \"/home/matt/.qu/data/demo_segmentation/masks\"\n",
    "\n",
    "pred_fold_path = \"/home/matt/.qu/data/demo_segmentation/preds\"\n",
    "\n",
    "_ = check_segmentation_predictions(gt_fold_path, pred_fold_path, True)"
   ]
  },
  {
   "cell_type": "code",
   "execution_count": null,
   "id": "determined-contributor",
   "metadata": {},
   "outputs": [],
   "source": []
  }
 ],
 "metadata": {
  "kernelspec": {
   "display_name": "qu",
   "language": "python",
   "name": "qu"
  },
  "language_info": {
   "codemirror_mode": {
    "name": "ipython",
    "version": 3
   },
   "file_extension": ".py",
   "mimetype": "text/x-python",
   "name": "python",
   "nbconvert_exporter": "python",
   "pygments_lexer": "ipython3",
   "version": "3.8.5"
  }
 },
 "nbformat": 4,
 "nbformat_minor": 5
}
